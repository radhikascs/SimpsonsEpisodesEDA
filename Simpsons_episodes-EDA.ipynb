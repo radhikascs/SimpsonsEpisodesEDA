{
 "cells": [
  {
   "cell_type": "markdown",
   "metadata": {},
   "source": [
    "# Import Libraries"
   ]
  },
  {
   "cell_type": "code",
   "execution_count": 1,
   "metadata": {},
   "outputs": [],
   "source": [
    "import numpy as np\n",
    "import pandas as pd\n",
    "import matplotlib.pyplot as plt\n",
    "import seaborn as sns"
   ]
  },
  {
   "cell_type": "markdown",
   "metadata": {},
   "source": [
    "# Understanding Data"
   ]
  },
  {
   "cell_type": "code",
   "execution_count": 2,
   "metadata": {},
   "outputs": [],
   "source": [
    "df=pd.read_csv(\"data_simpsons_episodes.csv\")"
   ]
  },
  {
   "cell_type": "code",
   "execution_count": 3,
   "metadata": {},
   "outputs": [
    {
     "data": {
      "text/plain": [
       "pandas.core.frame.DataFrame"
      ]
     },
     "execution_count": 3,
     "metadata": {},
     "output_type": "execute_result"
    }
   ],
   "source": [
    "type(df)"
   ]
  },
  {
   "cell_type": "code",
   "execution_count": 4,
   "metadata": {},
   "outputs": [
    {
     "data": {
      "text/html": [
       "<div>\n",
       "<style scoped>\n",
       "    .dataframe tbody tr th:only-of-type {\n",
       "        vertical-align: middle;\n",
       "    }\n",
       "\n",
       "    .dataframe tbody tr th {\n",
       "        vertical-align: top;\n",
       "    }\n",
       "\n",
       "    .dataframe thead th {\n",
       "        text-align: right;\n",
       "    }\n",
       "</style>\n",
       "<table border=\"1\" class=\"dataframe\">\n",
       "  <thead>\n",
       "    <tr style=\"text-align: right;\">\n",
       "      <th></th>\n",
       "      <th>id</th>\n",
       "      <th>title</th>\n",
       "      <th>original_air_date</th>\n",
       "      <th>production_code</th>\n",
       "      <th>season</th>\n",
       "      <th>number_in_season</th>\n",
       "      <th>number_in_series</th>\n",
       "      <th>us_viewers_in_millions</th>\n",
       "      <th>views</th>\n",
       "      <th>imdb_rating</th>\n",
       "      <th>imdb_votes</th>\n",
       "      <th>image_url</th>\n",
       "      <th>video_url</th>\n",
       "    </tr>\n",
       "  </thead>\n",
       "  <tbody>\n",
       "    <tr>\n",
       "      <th>0</th>\n",
       "      <td>10</td>\n",
       "      <td>Homer's Night Out</td>\n",
       "      <td>1990-03-25</td>\n",
       "      <td>7G10</td>\n",
       "      <td>1</td>\n",
       "      <td>10</td>\n",
       "      <td>10</td>\n",
       "      <td>30.3</td>\n",
       "      <td>50816.0</td>\n",
       "      <td>7.4</td>\n",
       "      <td>1511.0</td>\n",
       "      <td>http://static-media.fxx.com/img/FX_Networks_-_...</td>\n",
       "      <td>http://www.simpsonsworld.com/video/275197507879</td>\n",
       "    </tr>\n",
       "    <tr>\n",
       "      <th>1</th>\n",
       "      <td>12</td>\n",
       "      <td>Krusty Gets Busted</td>\n",
       "      <td>1990-04-29</td>\n",
       "      <td>7G12</td>\n",
       "      <td>1</td>\n",
       "      <td>12</td>\n",
       "      <td>12</td>\n",
       "      <td>30.4</td>\n",
       "      <td>62561.0</td>\n",
       "      <td>8.3</td>\n",
       "      <td>1716.0</td>\n",
       "      <td>http://static-media.fxx.com/img/FX_Networks_-_...</td>\n",
       "      <td>http://www.simpsonsworld.com/video/288019523914</td>\n",
       "    </tr>\n",
       "    <tr>\n",
       "      <th>2</th>\n",
       "      <td>14</td>\n",
       "      <td>Bart Gets an \"F\"</td>\n",
       "      <td>1990-10-11</td>\n",
       "      <td>7F03</td>\n",
       "      <td>2</td>\n",
       "      <td>1</td>\n",
       "      <td>14</td>\n",
       "      <td>33.6</td>\n",
       "      <td>59575.0</td>\n",
       "      <td>8.2</td>\n",
       "      <td>1638.0</td>\n",
       "      <td>http://static-media.fxx.com/img/FX_Networks_-_...</td>\n",
       "      <td>http://www.simpsonsworld.com/video/260539459671</td>\n",
       "    </tr>\n",
       "    <tr>\n",
       "      <th>3</th>\n",
       "      <td>17</td>\n",
       "      <td>Two Cars in Every Garage and Three Eyes on Eve...</td>\n",
       "      <td>1990-11-01</td>\n",
       "      <td>7F01</td>\n",
       "      <td>2</td>\n",
       "      <td>4</td>\n",
       "      <td>17</td>\n",
       "      <td>26.1</td>\n",
       "      <td>64959.0</td>\n",
       "      <td>8.1</td>\n",
       "      <td>1457.0</td>\n",
       "      <td>http://static-media.fxx.com/img/FX_Networks_-_...</td>\n",
       "      <td>http://www.simpsonsworld.com/video/260537411822</td>\n",
       "    </tr>\n",
       "    <tr>\n",
       "      <th>4</th>\n",
       "      <td>19</td>\n",
       "      <td>Dead Putting Society</td>\n",
       "      <td>1990-11-15</td>\n",
       "      <td>7F08</td>\n",
       "      <td>2</td>\n",
       "      <td>6</td>\n",
       "      <td>19</td>\n",
       "      <td>25.4</td>\n",
       "      <td>50691.0</td>\n",
       "      <td>8.0</td>\n",
       "      <td>1366.0</td>\n",
       "      <td>http://static-media.fxx.com/img/FX_Networks_-_...</td>\n",
       "      <td>http://www.simpsonsworld.com/video/260539459670</td>\n",
       "    </tr>\n",
       "  </tbody>\n",
       "</table>\n",
       "</div>"
      ],
      "text/plain": [
       "   id                                              title original_air_date  \\\n",
       "0  10                                  Homer's Night Out        1990-03-25   \n",
       "1  12                                 Krusty Gets Busted        1990-04-29   \n",
       "2  14                                   Bart Gets an \"F\"        1990-10-11   \n",
       "3  17  Two Cars in Every Garage and Three Eyes on Eve...        1990-11-01   \n",
       "4  19                               Dead Putting Society        1990-11-15   \n",
       "\n",
       "  production_code  season  number_in_season  number_in_series  \\\n",
       "0            7G10       1                10                10   \n",
       "1            7G12       1                12                12   \n",
       "2            7F03       2                 1                14   \n",
       "3            7F01       2                 4                17   \n",
       "4            7F08       2                 6                19   \n",
       "\n",
       "   us_viewers_in_millions    views  imdb_rating  imdb_votes  \\\n",
       "0                    30.3  50816.0          7.4      1511.0   \n",
       "1                    30.4  62561.0          8.3      1716.0   \n",
       "2                    33.6  59575.0          8.2      1638.0   \n",
       "3                    26.1  64959.0          8.1      1457.0   \n",
       "4                    25.4  50691.0          8.0      1366.0   \n",
       "\n",
       "                                           image_url  \\\n",
       "0  http://static-media.fxx.com/img/FX_Networks_-_...   \n",
       "1  http://static-media.fxx.com/img/FX_Networks_-_...   \n",
       "2  http://static-media.fxx.com/img/FX_Networks_-_...   \n",
       "3  http://static-media.fxx.com/img/FX_Networks_-_...   \n",
       "4  http://static-media.fxx.com/img/FX_Networks_-_...   \n",
       "\n",
       "                                         video_url  \n",
       "0  http://www.simpsonsworld.com/video/275197507879  \n",
       "1  http://www.simpsonsworld.com/video/288019523914  \n",
       "2  http://www.simpsonsworld.com/video/260539459671  \n",
       "3  http://www.simpsonsworld.com/video/260537411822  \n",
       "4  http://www.simpsonsworld.com/video/260539459670  "
      ]
     },
     "execution_count": 4,
     "metadata": {},
     "output_type": "execute_result"
    }
   ],
   "source": [
    "df.head()"
   ]
  },
  {
   "cell_type": "code",
   "execution_count": 5,
   "metadata": {},
   "outputs": [
    {
     "data": {
      "text/html": [
       "<div>\n",
       "<style scoped>\n",
       "    .dataframe tbody tr th:only-of-type {\n",
       "        vertical-align: middle;\n",
       "    }\n",
       "\n",
       "    .dataframe tbody tr th {\n",
       "        vertical-align: top;\n",
       "    }\n",
       "\n",
       "    .dataframe thead th {\n",
       "        text-align: right;\n",
       "    }\n",
       "</style>\n",
       "<table border=\"1\" class=\"dataframe\">\n",
       "  <thead>\n",
       "    <tr style=\"text-align: right;\">\n",
       "      <th></th>\n",
       "      <th>id</th>\n",
       "      <th>title</th>\n",
       "      <th>original_air_date</th>\n",
       "      <th>production_code</th>\n",
       "      <th>season</th>\n",
       "      <th>number_in_season</th>\n",
       "      <th>number_in_series</th>\n",
       "      <th>us_viewers_in_millions</th>\n",
       "      <th>views</th>\n",
       "      <th>imdb_rating</th>\n",
       "      <th>imdb_votes</th>\n",
       "      <th>image_url</th>\n",
       "      <th>video_url</th>\n",
       "    </tr>\n",
       "  </thead>\n",
       "  <tbody>\n",
       "    <tr>\n",
       "      <th>595</th>\n",
       "      <td>500</td>\n",
       "      <td>At Long Last Leave</td>\n",
       "      <td>2012-02-19</td>\n",
       "      <td>PABF07</td>\n",
       "      <td>23</td>\n",
       "      <td>14</td>\n",
       "      <td>500</td>\n",
       "      <td>5.77</td>\n",
       "      <td>45226.0</td>\n",
       "      <td>7.0</td>\n",
       "      <td>580.0</td>\n",
       "      <td>http://static-media.fxx.com/img/FX_Networks_-_...</td>\n",
       "      <td>http://www.simpsonsworld.com/video/230541891832</td>\n",
       "    </tr>\n",
       "    <tr>\n",
       "      <th>596</th>\n",
       "      <td>502</td>\n",
       "      <td>How I Wet Your Mother</td>\n",
       "      <td>2012-03-11</td>\n",
       "      <td>PABF08</td>\n",
       "      <td>23</td>\n",
       "      <td>16</td>\n",
       "      <td>502</td>\n",
       "      <td>4.97</td>\n",
       "      <td>44818.0</td>\n",
       "      <td>7.3</td>\n",
       "      <td>541.0</td>\n",
       "      <td>http://static-media.fxx.com/img/FX_Networks_-_...</td>\n",
       "      <td>http://www.simpsonsworld.com/video/230597187582</td>\n",
       "    </tr>\n",
       "    <tr>\n",
       "      <th>597</th>\n",
       "      <td>511</td>\n",
       "      <td>Adventures in Baby-Getting</td>\n",
       "      <td>2012-11-04</td>\n",
       "      <td>PABF18</td>\n",
       "      <td>24</td>\n",
       "      <td>3</td>\n",
       "      <td>511</td>\n",
       "      <td>5.65</td>\n",
       "      <td>39687.0</td>\n",
       "      <td>6.9</td>\n",
       "      <td>460.0</td>\n",
       "      <td>http://static-media.fxx.com/img/FX_Networks_-_...</td>\n",
       "      <td>http://www.simpsonsworld.com/video/221688899646</td>\n",
       "    </tr>\n",
       "    <tr>\n",
       "      <th>598</th>\n",
       "      <td>542</td>\n",
       "      <td>Diggs</td>\n",
       "      <td>2014-03-09</td>\n",
       "      <td>SABF08</td>\n",
       "      <td>25</td>\n",
       "      <td>12</td>\n",
       "      <td>542</td>\n",
       "      <td>2.69</td>\n",
       "      <td>39292.0</td>\n",
       "      <td>6.4</td>\n",
       "      <td>473.0</td>\n",
       "      <td>http://static-media.fxx.com/img/FX_Networks_-_...</td>\n",
       "      <td>http://www.simpsonsworld.com/video/310529091639</td>\n",
       "    </tr>\n",
       "    <tr>\n",
       "      <th>599</th>\n",
       "      <td>548</td>\n",
       "      <td>Days of Future Future</td>\n",
       "      <td>2014-04-13</td>\n",
       "      <td>SABF13</td>\n",
       "      <td>25</td>\n",
       "      <td>18</td>\n",
       "      <td>548</td>\n",
       "      <td>3.64</td>\n",
       "      <td>55742.0</td>\n",
       "      <td>7.0</td>\n",
       "      <td>504.0</td>\n",
       "      <td>http://static-media.fxx.com/img/FX_Networks_-_...</td>\n",
       "      <td>http://www.simpsonsworld.com/video/310257731892</td>\n",
       "    </tr>\n",
       "  </tbody>\n",
       "</table>\n",
       "</div>"
      ],
      "text/plain": [
       "      id                       title original_air_date production_code  \\\n",
       "595  500          At Long Last Leave        2012-02-19          PABF07   \n",
       "596  502       How I Wet Your Mother        2012-03-11          PABF08   \n",
       "597  511  Adventures in Baby-Getting        2012-11-04          PABF18   \n",
       "598  542                       Diggs        2014-03-09          SABF08   \n",
       "599  548       Days of Future Future        2014-04-13          SABF13   \n",
       "\n",
       "     season  number_in_season  number_in_series  us_viewers_in_millions  \\\n",
       "595      23                14               500                    5.77   \n",
       "596      23                16               502                    4.97   \n",
       "597      24                 3               511                    5.65   \n",
       "598      25                12               542                    2.69   \n",
       "599      25                18               548                    3.64   \n",
       "\n",
       "       views  imdb_rating  imdb_votes  \\\n",
       "595  45226.0          7.0       580.0   \n",
       "596  44818.0          7.3       541.0   \n",
       "597  39687.0          6.9       460.0   \n",
       "598  39292.0          6.4       473.0   \n",
       "599  55742.0          7.0       504.0   \n",
       "\n",
       "                                             image_url  \\\n",
       "595  http://static-media.fxx.com/img/FX_Networks_-_...   \n",
       "596  http://static-media.fxx.com/img/FX_Networks_-_...   \n",
       "597  http://static-media.fxx.com/img/FX_Networks_-_...   \n",
       "598  http://static-media.fxx.com/img/FX_Networks_-_...   \n",
       "599  http://static-media.fxx.com/img/FX_Networks_-_...   \n",
       "\n",
       "                                           video_url  \n",
       "595  http://www.simpsonsworld.com/video/230541891832  \n",
       "596  http://www.simpsonsworld.com/video/230597187582  \n",
       "597  http://www.simpsonsworld.com/video/221688899646  \n",
       "598  http://www.simpsonsworld.com/video/310529091639  \n",
       "599  http://www.simpsonsworld.com/video/310257731892  "
      ]
     },
     "execution_count": 5,
     "metadata": {},
     "output_type": "execute_result"
    }
   ],
   "source": [
    "df.tail()"
   ]
  },
  {
   "cell_type": "code",
   "execution_count": 6,
   "metadata": {},
   "outputs": [
    {
     "data": {
      "text/plain": [
       "(600, 13)"
      ]
     },
     "execution_count": 6,
     "metadata": {},
     "output_type": "execute_result"
    }
   ],
   "source": [
    "df.shape"
   ]
  },
  {
   "cell_type": "code",
   "execution_count": 7,
   "metadata": {},
   "outputs": [
    {
     "name": "stdout",
     "output_type": "stream",
     "text": [
      "<class 'pandas.core.frame.DataFrame'>\n",
      "RangeIndex: 600 entries, 0 to 599\n",
      "Data columns (total 13 columns):\n",
      " #   Column                  Non-Null Count  Dtype  \n",
      "---  ------                  --------------  -----  \n",
      " 0   id                      600 non-null    int64  \n",
      " 1   title                   600 non-null    object \n",
      " 2   original_air_date       600 non-null    object \n",
      " 3   production_code         600 non-null    object \n",
      " 4   season                  600 non-null    int64  \n",
      " 5   number_in_season        600 non-null    int64  \n",
      " 6   number_in_series        600 non-null    int64  \n",
      " 7   us_viewers_in_millions  594 non-null    float64\n",
      " 8   views                   596 non-null    float64\n",
      " 9   imdb_rating             597 non-null    float64\n",
      " 10  imdb_votes              597 non-null    float64\n",
      " 11  image_url               596 non-null    object \n",
      " 12  video_url               596 non-null    object \n",
      "dtypes: float64(4), int64(4), object(5)\n",
      "memory usage: 61.1+ KB\n"
     ]
    }
   ],
   "source": [
    "df.info()"
   ]
  },
  {
   "cell_type": "code",
   "execution_count": 8,
   "metadata": {},
   "outputs": [
    {
     "data": {
      "text/html": [
       "<div>\n",
       "<style scoped>\n",
       "    .dataframe tbody tr th:only-of-type {\n",
       "        vertical-align: middle;\n",
       "    }\n",
       "\n",
       "    .dataframe tbody tr th {\n",
       "        vertical-align: top;\n",
       "    }\n",
       "\n",
       "    .dataframe thead th {\n",
       "        text-align: right;\n",
       "    }\n",
       "</style>\n",
       "<table border=\"1\" class=\"dataframe\">\n",
       "  <thead>\n",
       "    <tr style=\"text-align: right;\">\n",
       "      <th></th>\n",
       "      <th>id</th>\n",
       "      <th>season</th>\n",
       "      <th>number_in_season</th>\n",
       "      <th>number_in_series</th>\n",
       "      <th>us_viewers_in_millions</th>\n",
       "      <th>views</th>\n",
       "      <th>imdb_rating</th>\n",
       "      <th>imdb_votes</th>\n",
       "    </tr>\n",
       "  </thead>\n",
       "  <tbody>\n",
       "    <tr>\n",
       "      <th>count</th>\n",
       "      <td>600.000000</td>\n",
       "      <td>600.000000</td>\n",
       "      <td>600.000000</td>\n",
       "      <td>600.000000</td>\n",
       "      <td>594.000000</td>\n",
       "      <td>596.000000</td>\n",
       "      <td>597.000000</td>\n",
       "      <td>597.000000</td>\n",
       "    </tr>\n",
       "    <tr>\n",
       "      <th>mean</th>\n",
       "      <td>300.500000</td>\n",
       "      <td>14.100000</td>\n",
       "      <td>11.585000</td>\n",
       "      <td>300.500000</td>\n",
       "      <td>11.842795</td>\n",
       "      <td>48759.377517</td>\n",
       "      <td>7.386097</td>\n",
       "      <td>832.365159</td>\n",
       "    </tr>\n",
       "    <tr>\n",
       "      <th>std</th>\n",
       "      <td>173.349358</td>\n",
       "      <td>7.755444</td>\n",
       "      <td>6.549881</td>\n",
       "      <td>173.349358</td>\n",
       "      <td>6.414218</td>\n",
       "      <td>17751.308464</td>\n",
       "      <td>0.732439</td>\n",
       "      <td>396.117937</td>\n",
       "    </tr>\n",
       "    <tr>\n",
       "      <th>min</th>\n",
       "      <td>1.000000</td>\n",
       "      <td>1.000000</td>\n",
       "      <td>1.000000</td>\n",
       "      <td>1.000000</td>\n",
       "      <td>2.320000</td>\n",
       "      <td>144.000000</td>\n",
       "      <td>4.500000</td>\n",
       "      <td>104.000000</td>\n",
       "    </tr>\n",
       "    <tr>\n",
       "      <th>25%</th>\n",
       "      <td>150.750000</td>\n",
       "      <td>7.000000</td>\n",
       "      <td>6.000000</td>\n",
       "      <td>150.750000</td>\n",
       "      <td>7.055000</td>\n",
       "      <td>41301.750000</td>\n",
       "      <td>6.900000</td>\n",
       "      <td>560.000000</td>\n",
       "    </tr>\n",
       "    <tr>\n",
       "      <th>50%</th>\n",
       "      <td>300.500000</td>\n",
       "      <td>14.000000</td>\n",
       "      <td>11.000000</td>\n",
       "      <td>300.500000</td>\n",
       "      <td>10.300000</td>\n",
       "      <td>46036.000000</td>\n",
       "      <td>7.300000</td>\n",
       "      <td>697.000000</td>\n",
       "    </tr>\n",
       "    <tr>\n",
       "      <th>75%</th>\n",
       "      <td>450.250000</td>\n",
       "      <td>21.000000</td>\n",
       "      <td>17.000000</td>\n",
       "      <td>450.250000</td>\n",
       "      <td>15.250000</td>\n",
       "      <td>57593.750000</td>\n",
       "      <td>8.000000</td>\n",
       "      <td>1095.000000</td>\n",
       "    </tr>\n",
       "    <tr>\n",
       "      <th>max</th>\n",
       "      <td>600.000000</td>\n",
       "      <td>28.000000</td>\n",
       "      <td>25.000000</td>\n",
       "      <td>600.000000</td>\n",
       "      <td>33.600000</td>\n",
       "      <td>171408.000000</td>\n",
       "      <td>9.200000</td>\n",
       "      <td>3734.000000</td>\n",
       "    </tr>\n",
       "  </tbody>\n",
       "</table>\n",
       "</div>"
      ],
      "text/plain": [
       "               id      season  number_in_season  number_in_series  \\\n",
       "count  600.000000  600.000000        600.000000        600.000000   \n",
       "mean   300.500000   14.100000         11.585000        300.500000   \n",
       "std    173.349358    7.755444          6.549881        173.349358   \n",
       "min      1.000000    1.000000          1.000000          1.000000   \n",
       "25%    150.750000    7.000000          6.000000        150.750000   \n",
       "50%    300.500000   14.000000         11.000000        300.500000   \n",
       "75%    450.250000   21.000000         17.000000        450.250000   \n",
       "max    600.000000   28.000000         25.000000        600.000000   \n",
       "\n",
       "       us_viewers_in_millions          views  imdb_rating   imdb_votes  \n",
       "count              594.000000     596.000000   597.000000   597.000000  \n",
       "mean                11.842795   48759.377517     7.386097   832.365159  \n",
       "std                  6.414218   17751.308464     0.732439   396.117937  \n",
       "min                  2.320000     144.000000     4.500000   104.000000  \n",
       "25%                  7.055000   41301.750000     6.900000   560.000000  \n",
       "50%                 10.300000   46036.000000     7.300000   697.000000  \n",
       "75%                 15.250000   57593.750000     8.000000  1095.000000  \n",
       "max                 33.600000  171408.000000     9.200000  3734.000000  "
      ]
     },
     "execution_count": 8,
     "metadata": {},
     "output_type": "execute_result"
    }
   ],
   "source": [
    "df.describe()"
   ]
  },
  {
   "cell_type": "markdown",
   "metadata": {},
   "source": [
    "# Univariate Analysis"
   ]
  },
  {
   "cell_type": "markdown",
   "metadata": {},
   "source": [
    "Univariate analysis refers to the analysis of one variable at a time. "
   ]
  },
  {
   "cell_type": "code",
   "execution_count": 9,
   "metadata": {},
   "outputs": [
    {
     "data": {
      "text/plain": [
       "0       1\n",
       "1       1\n",
       "2       2\n",
       "3       2\n",
       "4       2\n",
       "       ..\n",
       "595    23\n",
       "596    23\n",
       "597    24\n",
       "598    25\n",
       "599    25\n",
       "Name: season, Length: 600, dtype: int64"
      ]
     },
     "execution_count": 9,
     "metadata": {},
     "output_type": "execute_result"
    }
   ],
   "source": [
    "df[\"season\"]"
   ]
  },
  {
   "cell_type": "code",
   "execution_count": 10,
   "metadata": {},
   "outputs": [
    {
     "data": {
      "text/plain": [
       "6     25\n",
       "7     25\n",
       "8     25\n",
       "9     25\n",
       "3     24\n",
       "21    23\n",
       "10    23\n",
       "2     22\n",
       "4     22\n",
       "5     22\n",
       "11    22\n",
       "13    22\n",
       "27    22\n",
       "14    22\n",
       "17    22\n",
       "18    22\n",
       "22    22\n",
       "23    22\n",
       "24    22\n",
       "25    22\n",
       "26    22\n",
       "15    22\n",
       "16    21\n",
       "12    21\n",
       "20    21\n",
       "19    20\n",
       "1     13\n",
       "28     4\n",
       "Name: season, dtype: int64"
      ]
     },
     "execution_count": 10,
     "metadata": {},
     "output_type": "execute_result"
    }
   ],
   "source": [
    "df[\"season\"].value_counts()"
   ]
  },
  {
   "cell_type": "code",
   "execution_count": 11,
   "metadata": {},
   "outputs": [
    {
     "data": {
      "text/plain": [
       "<matplotlib.axes._subplots.AxesSubplot at 0x19e8c616d08>"
      ]
     },
     "execution_count": 11,
     "metadata": {},
     "output_type": "execute_result"
    },
    {
     "data": {
      "image/png": "[encoded data removed]",
      "text/plain": [
       "<Figure size 432x288 with 1 Axes>"
      ]
     },
     "metadata": {
      "needs_background": "light"
     },
     "output_type": "display_data"
    }
   ],
   "source": [
    "sns.countplot(x=\"season\", data=df) #Univariate Analysis"
   ]
  },
  {
   "cell_type": "code",
   "execution_count": 12,
   "metadata": {},
   "outputs": [
    {
     "data": {
      "text/plain": [
       "<matplotlib.axes._subplots.AxesSubplot at 0x19e8cef2a48>"
      ]
     },
     "execution_count": 12,
     "metadata": {},
     "output_type": "execute_result"
    },
    {
     "data": {
      "image/png": "[encoded data removed]",
      "text/plain": [
       "<Figure size 432x288 with 1 Axes>"
      ]
     },
     "metadata": {
      "needs_background": "light"
     },
     "output_type": "display_data"
    }
   ],
   "source": [
    "df[\"imdb_rating\"].hist(bins=20)"
   ]
  },
  {
   "cell_type": "code",
   "execution_count": 13,
   "metadata": {},
   "outputs": [
    {
     "data": {
      "text/plain": [
       "<matplotlib.axes._subplots.AxesSubplot at 0x19e8cef2648>"
      ]
     },
     "execution_count": 13,
     "metadata": {},
     "output_type": "execute_result"
    },
    {
     "data": {
      "image/png": "[encoded data removed]",
      "text/plain": [
       "<Figure size 432x288 with 1 Axes>"
      ]
     },
     "metadata": {
      "needs_background": "light"
     },
     "output_type": "display_data"
    }
   ],
   "source": [
    "df[\"imdb_votes\"].hist(bins=10)"
   ]
  },
  {
   "cell_type": "code",
   "execution_count": 14,
   "metadata": {},
   "outputs": [
    {
     "data": {
      "text/plain": [
       "<matplotlib.axes._subplots.AxesSubplot at 0x19e8ce97f88>"
      ]
     },
     "execution_count": 14,
     "metadata": {},
     "output_type": "execute_result"
    },
    {
     "data": {
      "image/png": "[encoded data removed]",
      "text/plain": [
       "<Figure size 432x288 with 1 Axes>"
      ]
     },
     "metadata": {
      "needs_background": "light"
     },
     "output_type": "display_data"
    }
   ],
   "source": [
    "sns.boxplot(df[\"imdb_votes\"], orient=\"v\")"
   ]
  },
  {
   "cell_type": "markdown",
   "metadata": {},
   "source": [
    "# Bivariate Analysis"
   ]
  },
  {
   "cell_type": "code",
   "execution_count": 15,
   "metadata": {},
   "outputs": [
    {
     "data": {
      "text/plain": [
       "<matplotlib.axes._subplots.AxesSubplot at 0x19e8d075fc8>"
      ]
     },
     "execution_count": 15,
     "metadata": {},
     "output_type": "execute_result"
    },
    {
     "data": {
      "image/png": "[encoded data removed]",
      "text/plain": [
       "<Figure size 432x288 with 1 Axes>"
      ]
     },
     "metadata": {
      "needs_background": "light"
     },
     "output_type": "display_data"
    }
   ],
   "source": [
    "df.plot.scatter(x=\"imdb_votes\", y=\"imdb_rating\")"
   ]
  },
  {
   "cell_type": "code",
   "execution_count": 16,
   "metadata": {},
   "outputs": [
    {
     "data": {
      "text/plain": [
       "<matplotlib.axes._subplots.AxesSubplot at 0x19e8cf95608>"
      ]
     },
     "execution_count": 16,
     "metadata": {},
     "output_type": "execute_result"
    },
    {
     "data": {
      "image/png": "[encoded data removed]",
      "text/plain": [
       "<Figure size 432x288 with 1 Axes>"
      ]
     },
     "metadata": {
      "needs_background": "light"
     },
     "output_type": "display_data"
    }
   ],
   "source": [
    "\n",
    "sns.barplot(x=\"season\", y=\"us_viewers_in_millions\", data=df)"
   ]
  },
  {
   "cell_type": "code",
   "execution_count": 17,
   "metadata": {},
   "outputs": [
    {
     "data": {
      "text/plain": [
       "<matplotlib.axes._subplots.AxesSubplot at 0x19e8d2615c8>"
      ]
     },
     "execution_count": 17,
     "metadata": {},
     "output_type": "execute_result"
    },
    {
     "data": {
      "image/png": "[encoded data removed]",
      "text/plain": [
       "<Figure size 432x288 with 1 Axes>"
      ]
     },
     "metadata": {
      "needs_background": "light"
     },
     "output_type": "display_data"
    }
   ],
   "source": [
    "sns.boxplot(x=\"season\", y=\"us_viewers_in_millions\", data=df)"
   ]
  },
  {
   "cell_type": "markdown",
   "metadata": {},
   "source": [
    "# Correlation (Multivariate Analysis)"
   ]
  },
  {
   "cell_type": "code",
   "execution_count": 18,
   "metadata": {},
   "outputs": [
    {
     "data": {
      "text/html": [
       "<div>\n",
       "<style scoped>\n",
       "    .dataframe tbody tr th:only-of-type {\n",
       "        vertical-align: middle;\n",
       "    }\n",
       "\n",
       "    .dataframe tbody tr th {\n",
       "        vertical-align: top;\n",
       "    }\n",
       "\n",
       "    .dataframe thead th {\n",
       "        text-align: right;\n",
       "    }\n",
       "</style>\n",
       "<table border=\"1\" class=\"dataframe\">\n",
       "  <thead>\n",
       "    <tr style=\"text-align: right;\">\n",
       "      <th></th>\n",
       "      <th>id</th>\n",
       "      <th>season</th>\n",
       "      <th>number_in_season</th>\n",
       "      <th>number_in_series</th>\n",
       "      <th>us_viewers_in_millions</th>\n",
       "      <th>views</th>\n",
       "      <th>imdb_rating</th>\n",
       "      <th>imdb_votes</th>\n",
       "    </tr>\n",
       "  </thead>\n",
       "  <tbody>\n",
       "    <tr>\n",
       "      <th>id</th>\n",
       "      <td>1.000000</td>\n",
       "      <td>0.999073</td>\n",
       "      <td>0.000436</td>\n",
       "      <td>1.000000</td>\n",
       "      <td>-0.855775</td>\n",
       "      <td>-0.592811</td>\n",
       "      <td>-0.747142</td>\n",
       "      <td>-0.849787</td>\n",
       "    </tr>\n",
       "    <tr>\n",
       "      <th>season</th>\n",
       "      <td>0.999073</td>\n",
       "      <td>1.000000</td>\n",
       "      <td>-0.036681</td>\n",
       "      <td>0.999073</td>\n",
       "      <td>-0.846410</td>\n",
       "      <td>-0.590396</td>\n",
       "      <td>-0.742424</td>\n",
       "      <td>-0.841633</td>\n",
       "    </tr>\n",
       "    <tr>\n",
       "      <th>number_in_season</th>\n",
       "      <td>0.000436</td>\n",
       "      <td>-0.036681</td>\n",
       "      <td>1.000000</td>\n",
       "      <td>0.000436</td>\n",
       "      <td>-0.155224</td>\n",
       "      <td>-0.015030</td>\n",
       "      <td>-0.000065</td>\n",
       "      <td>-0.103570</td>\n",
       "    </tr>\n",
       "    <tr>\n",
       "      <th>number_in_series</th>\n",
       "      <td>1.000000</td>\n",
       "      <td>0.999073</td>\n",
       "      <td>0.000436</td>\n",
       "      <td>1.000000</td>\n",
       "      <td>-0.855775</td>\n",
       "      <td>-0.592811</td>\n",
       "      <td>-0.747142</td>\n",
       "      <td>-0.849787</td>\n",
       "    </tr>\n",
       "    <tr>\n",
       "      <th>us_viewers_in_millions</th>\n",
       "      <td>-0.855775</td>\n",
       "      <td>-0.846410</td>\n",
       "      <td>-0.155224</td>\n",
       "      <td>-0.855775</td>\n",
       "      <td>1.000000</td>\n",
       "      <td>0.551805</td>\n",
       "      <td>0.623260</td>\n",
       "      <td>0.786840</td>\n",
       "    </tr>\n",
       "    <tr>\n",
       "      <th>views</th>\n",
       "      <td>-0.592811</td>\n",
       "      <td>-0.590396</td>\n",
       "      <td>-0.015030</td>\n",
       "      <td>-0.592811</td>\n",
       "      <td>0.551805</td>\n",
       "      <td>1.000000</td>\n",
       "      <td>0.575512</td>\n",
       "      <td>0.668230</td>\n",
       "    </tr>\n",
       "    <tr>\n",
       "      <th>imdb_rating</th>\n",
       "      <td>-0.747142</td>\n",
       "      <td>-0.742424</td>\n",
       "      <td>-0.000065</td>\n",
       "      <td>-0.747142</td>\n",
       "      <td>0.623260</td>\n",
       "      <td>0.575512</td>\n",
       "      <td>1.000000</td>\n",
       "      <td>0.783829</td>\n",
       "    </tr>\n",
       "    <tr>\n",
       "      <th>imdb_votes</th>\n",
       "      <td>-0.849787</td>\n",
       "      <td>-0.841633</td>\n",
       "      <td>-0.103570</td>\n",
       "      <td>-0.849787</td>\n",
       "      <td>0.786840</td>\n",
       "      <td>0.668230</td>\n",
       "      <td>0.783829</td>\n",
       "      <td>1.000000</td>\n",
       "    </tr>\n",
       "  </tbody>\n",
       "</table>\n",
       "</div>"
      ],
      "text/plain": [
       "                              id    season  number_in_season  \\\n",
       "id                      1.000000  0.999073          0.000436   \n",
       "season                  0.999073  1.000000         -0.036681   \n",
       "number_in_season        0.000436 -0.036681          1.000000   \n",
       "number_in_series        1.000000  0.999073          0.000436   \n",
       "us_viewers_in_millions -0.855775 -0.846410         -0.155224   \n",
       "views                  -0.592811 -0.590396         -0.015030   \n",
       "imdb_rating            -0.747142 -0.742424         -0.000065   \n",
       "imdb_votes             -0.849787 -0.841633         -0.103570   \n",
       "\n",
       "                        number_in_series  us_viewers_in_millions     views  \\\n",
       "id                              1.000000               -0.855775 -0.592811   \n",
       "season                          0.999073               -0.846410 -0.590396   \n",
       "number_in_season                0.000436               -0.155224 -0.015030   \n",
       "number_in_series                1.000000               -0.855775 -0.592811   \n",
       "us_viewers_in_millions         -0.855775                1.000000  0.551805   \n",
       "views                          -0.592811                0.551805  1.000000   \n",
       "imdb_rating                    -0.747142                0.623260  0.575512   \n",
       "imdb_votes                     -0.849787                0.786840  0.668230   \n",
       "\n",
       "                        imdb_rating  imdb_votes  \n",
       "id                        -0.747142   -0.849787  \n",
       "season                    -0.742424   -0.841633  \n",
       "number_in_season          -0.000065   -0.103570  \n",
       "number_in_series          -0.747142   -0.849787  \n",
       "us_viewers_in_millions     0.623260    0.786840  \n",
       "views                      0.575512    0.668230  \n",
       "imdb_rating                1.000000    0.783829  \n",
       "imdb_votes                 0.783829    1.000000  "
      ]
     },
     "execution_count": 18,
     "metadata": {},
     "output_type": "execute_result"
    }
   ],
   "source": [
    "df.corr()"
   ]
  },
  {
   "cell_type": "code",
   "execution_count": 19,
   "metadata": {},
   "outputs": [
    {
     "data": {
      "text/plain": [
       "<matplotlib.axes._subplots.AxesSubplot at 0x19e8d568788>"
      ]
     },
     "execution_count": 19,
     "metadata": {},
     "output_type": "execute_result"
    },
    {
     "data": {
      "image/png": "[encoded data removed]",
      "text/plain": [
       "<Figure size 432x288 with 2 Axes>"
      ]
     },
     "metadata": {
      "needs_background": "light"
     },
     "output_type": "display_data"
    }
   ],
   "source": [
    "sns.heatmap(df.corr(), annot= True)"
   ]
  },
  {
   "cell_type": "markdown",
   "metadata": {},
   "source": [
    "# Missing Values"
   ]
  },
  {
   "cell_type": "code",
   "execution_count": 20,
   "metadata": {},
   "outputs": [
    {
     "data": {
      "text/html": [
       "<div>\n",
       "<style scoped>\n",
       "    .dataframe tbody tr th:only-of-type {\n",
       "        vertical-align: middle;\n",
       "    }\n",
       "\n",
       "    .dataframe tbody tr th {\n",
       "        vertical-align: top;\n",
       "    }\n",
       "\n",
       "    .dataframe thead th {\n",
       "        text-align: right;\n",
       "    }\n",
       "</style>\n",
       "<table border=\"1\" class=\"dataframe\">\n",
       "  <thead>\n",
       "    <tr style=\"text-align: right;\">\n",
       "      <th></th>\n",
       "      <th>id</th>\n",
       "      <th>title</th>\n",
       "      <th>original_air_date</th>\n",
       "      <th>production_code</th>\n",
       "      <th>season</th>\n",
       "      <th>number_in_season</th>\n",
       "      <th>number_in_series</th>\n",
       "      <th>us_viewers_in_millions</th>\n",
       "      <th>views</th>\n",
       "      <th>imdb_rating</th>\n",
       "      <th>imdb_votes</th>\n",
       "      <th>image_url</th>\n",
       "      <th>video_url</th>\n",
       "    </tr>\n",
       "  </thead>\n",
       "  <tbody>\n",
       "    <tr>\n",
       "      <th>0</th>\n",
       "      <td>False</td>\n",
       "      <td>False</td>\n",
       "      <td>False</td>\n",
       "      <td>False</td>\n",
       "      <td>False</td>\n",
       "      <td>False</td>\n",
       "      <td>False</td>\n",
       "      <td>False</td>\n",
       "      <td>False</td>\n",
       "      <td>False</td>\n",
       "      <td>False</td>\n",
       "      <td>False</td>\n",
       "      <td>False</td>\n",
       "    </tr>\n",
       "    <tr>\n",
       "      <th>1</th>\n",
       "      <td>False</td>\n",
       "      <td>False</td>\n",
       "      <td>False</td>\n",
       "      <td>False</td>\n",
       "      <td>False</td>\n",
       "      <td>False</td>\n",
       "      <td>False</td>\n",
       "      <td>False</td>\n",
       "      <td>False</td>\n",
       "      <td>False</td>\n",
       "      <td>False</td>\n",
       "      <td>False</td>\n",
       "      <td>False</td>\n",
       "    </tr>\n",
       "    <tr>\n",
       "      <th>2</th>\n",
       "      <td>False</td>\n",
       "      <td>False</td>\n",
       "      <td>False</td>\n",
       "      <td>False</td>\n",
       "      <td>False</td>\n",
       "      <td>False</td>\n",
       "      <td>False</td>\n",
       "      <td>False</td>\n",
       "      <td>False</td>\n",
       "      <td>False</td>\n",
       "      <td>False</td>\n",
       "      <td>False</td>\n",
       "      <td>False</td>\n",
       "    </tr>\n",
       "    <tr>\n",
       "      <th>3</th>\n",
       "      <td>False</td>\n",
       "      <td>False</td>\n",
       "      <td>False</td>\n",
       "      <td>False</td>\n",
       "      <td>False</td>\n",
       "      <td>False</td>\n",
       "      <td>False</td>\n",
       "      <td>False</td>\n",
       "      <td>False</td>\n",
       "      <td>False</td>\n",
       "      <td>False</td>\n",
       "      <td>False</td>\n",
       "      <td>False</td>\n",
       "    </tr>\n",
       "    <tr>\n",
       "      <th>4</th>\n",
       "      <td>False</td>\n",
       "      <td>False</td>\n",
       "      <td>False</td>\n",
       "      <td>False</td>\n",
       "      <td>False</td>\n",
       "      <td>False</td>\n",
       "      <td>False</td>\n",
       "      <td>False</td>\n",
       "      <td>False</td>\n",
       "      <td>False</td>\n",
       "      <td>False</td>\n",
       "      <td>False</td>\n",
       "      <td>False</td>\n",
       "    </tr>\n",
       "    <tr>\n",
       "      <th>...</th>\n",
       "      <td>...</td>\n",
       "      <td>...</td>\n",
       "      <td>...</td>\n",
       "      <td>...</td>\n",
       "      <td>...</td>\n",
       "      <td>...</td>\n",
       "      <td>...</td>\n",
       "      <td>...</td>\n",
       "      <td>...</td>\n",
       "      <td>...</td>\n",
       "      <td>...</td>\n",
       "      <td>...</td>\n",
       "      <td>...</td>\n",
       "    </tr>\n",
       "    <tr>\n",
       "      <th>595</th>\n",
       "      <td>False</td>\n",
       "      <td>False</td>\n",
       "      <td>False</td>\n",
       "      <td>False</td>\n",
       "      <td>False</td>\n",
       "      <td>False</td>\n",
       "      <td>False</td>\n",
       "      <td>False</td>\n",
       "      <td>False</td>\n",
       "      <td>False</td>\n",
       "      <td>False</td>\n",
       "      <td>False</td>\n",
       "      <td>False</td>\n",
       "    </tr>\n",
       "    <tr>\n",
       "      <th>596</th>\n",
       "      <td>False</td>\n",
       "      <td>False</td>\n",
       "      <td>False</td>\n",
       "      <td>False</td>\n",
       "      <td>False</td>\n",
       "      <td>False</td>\n",
       "      <td>False</td>\n",
       "      <td>False</td>\n",
       "      <td>False</td>\n",
       "      <td>False</td>\n",
       "      <td>False</td>\n",
       "      <td>False</td>\n",
       "      <td>False</td>\n",
       "    </tr>\n",
       "    <tr>\n",
       "      <th>597</th>\n",
       "      <td>False</td>\n",
       "      <td>False</td>\n",
       "      <td>False</td>\n",
       "      <td>False</td>\n",
       "      <td>False</td>\n",
       "      <td>False</td>\n",
       "      <td>False</td>\n",
       "      <td>False</td>\n",
       "      <td>False</td>\n",
       "      <td>False</td>\n",
       "      <td>False</td>\n",
       "      <td>False</td>\n",
       "      <td>False</td>\n",
       "    </tr>\n",
       "    <tr>\n",
       "      <th>598</th>\n",
       "      <td>False</td>\n",
       "      <td>False</td>\n",
       "      <td>False</td>\n",
       "      <td>False</td>\n",
       "      <td>False</td>\n",
       "      <td>False</td>\n",
       "      <td>False</td>\n",
       "      <td>False</td>\n",
       "      <td>False</td>\n",
       "      <td>False</td>\n",
       "      <td>False</td>\n",
       "      <td>False</td>\n",
       "      <td>False</td>\n",
       "    </tr>\n",
       "    <tr>\n",
       "      <th>599</th>\n",
       "      <td>False</td>\n",
       "      <td>False</td>\n",
       "      <td>False</td>\n",
       "      <td>False</td>\n",
       "      <td>False</td>\n",
       "      <td>False</td>\n",
       "      <td>False</td>\n",
       "      <td>False</td>\n",
       "      <td>False</td>\n",
       "      <td>False</td>\n",
       "      <td>False</td>\n",
       "      <td>False</td>\n",
       "      <td>False</td>\n",
       "    </tr>\n",
       "  </tbody>\n",
       "</table>\n",
       "<p>600 rows × 13 columns</p>\n",
       "</div>"
      ],
      "text/plain": [
       "        id  title  original_air_date  production_code  season  \\\n",
       "0    False  False              False            False   False   \n",
       "1    False  False              False            False   False   \n",
       "2    False  False              False            False   False   \n",
       "3    False  False              False            False   False   \n",
       "4    False  False              False            False   False   \n",
       "..     ...    ...                ...              ...     ...   \n",
       "595  False  False              False            False   False   \n",
       "596  False  False              False            False   False   \n",
       "597  False  False              False            False   False   \n",
       "598  False  False              False            False   False   \n",
       "599  False  False              False            False   False   \n",
       "\n",
       "     number_in_season  number_in_series  us_viewers_in_millions  views  \\\n",
       "0               False             False                   False  False   \n",
       "1               False             False                   False  False   \n",
       "2               False             False                   False  False   \n",
       "3               False             False                   False  False   \n",
       "4               False             False                   False  False   \n",
       "..                ...               ...                     ...    ...   \n",
       "595             False             False                   False  False   \n",
       "596             False             False                   False  False   \n",
       "597             False             False                   False  False   \n",
       "598             False             False                   False  False   \n",
       "599             False             False                   False  False   \n",
       "\n",
       "     imdb_rating  imdb_votes  image_url  video_url  \n",
       "0          False       False      False      False  \n",
       "1          False       False      False      False  \n",
       "2          False       False      False      False  \n",
       "3          False       False      False      False  \n",
       "4          False       False      False      False  \n",
       "..           ...         ...        ...        ...  \n",
       "595        False       False      False      False  \n",
       "596        False       False      False      False  \n",
       "597        False       False      False      False  \n",
       "598        False       False      False      False  \n",
       "599        False       False      False      False  \n",
       "\n",
       "[600 rows x 13 columns]"
      ]
     },
     "execution_count": 20,
     "metadata": {},
     "output_type": "execute_result"
    }
   ],
   "source": [
    "df.isnull()"
   ]
  },
  {
   "cell_type": "code",
   "execution_count": 21,
   "metadata": {},
   "outputs": [
    {
     "data": {
      "text/plain": [
       "<matplotlib.axes._subplots.AxesSubplot at 0x19e8d6af748>"
      ]
     },
     "execution_count": 21,
     "metadata": {},
     "output_type": "execute_result"
    },
    {
     "data": {
      "image/png": "[encoded data removed]",
      "text/plain": [
       "<Figure size 432x288 with 2 Axes>"
      ]
     },
     "metadata": {
      "needs_background": "light"
     },
     "output_type": "display_data"
    }
   ],
   "source": [
    "sns.heatmap(df.isnull())"
   ]
  },
  {
   "cell_type": "code",
   "execution_count": 22,
   "metadata": {},
   "outputs": [],
   "source": [
    "new_df=df.dropna()"
   ]
  },
  {
   "cell_type": "code",
   "execution_count": 23,
   "metadata": {},
   "outputs": [
    {
     "data": {
      "text/plain": [
       "<matplotlib.axes._subplots.AxesSubplot at 0x19e8d7b6c88>"
      ]
     },
     "execution_count": 23,
     "metadata": {},
     "output_type": "execute_result"
    },
    {
     "data": {
      "image/png": "[encoded data removed]",
      "text/plain": [
       "<Figure size 432x288 with 2 Axes>"
      ]
     },
     "metadata": {
      "needs_background": "light"
     },
     "output_type": "display_data"
    }
   ],
   "source": [
    "sns.heatmap(new_df.isnull())"
   ]
  },
  {
   "cell_type": "code",
   "execution_count": 24,
   "metadata": {},
   "outputs": [
    {
     "data": {
      "text/plain": [
       "7.3860971524288095"
      ]
     },
     "execution_count": 24,
     "metadata": {},
     "output_type": "execute_result"
    }
   ],
   "source": [
    "df[\"imdb_rating\"].mean()"
   ]
  },
  {
   "cell_type": "code",
   "execution_count": 25,
   "metadata": {},
   "outputs": [],
   "source": [
    "mean_ratings=df[\"imdb_rating\"].mean()"
   ]
  },
  {
   "cell_type": "code",
   "execution_count": 26,
   "metadata": {},
   "outputs": [],
   "source": [
    "df[\"imdb_rating\"].fillna(7.3,inplace = True)"
   ]
  },
  {
   "cell_type": "code",
   "execution_count": 27,
   "metadata": {},
   "outputs": [
    {
     "name": "stdout",
     "output_type": "stream",
     "text": [
      "<class 'pandas.core.frame.DataFrame'>\n",
      "RangeIndex: 600 entries, 0 to 599\n",
      "Data columns (total 13 columns):\n",
      " #   Column                  Non-Null Count  Dtype  \n",
      "---  ------                  --------------  -----  \n",
      " 0   id                      600 non-null    int64  \n",
      " 1   title                   600 non-null    object \n",
      " 2   original_air_date       600 non-null    object \n",
      " 3   production_code         600 non-null    object \n",
      " 4   season                  600 non-null    int64  \n",
      " 5   number_in_season        600 non-null    int64  \n",
      " 6   number_in_series        600 non-null    int64  \n",
      " 7   us_viewers_in_millions  594 non-null    float64\n",
      " 8   views                   596 non-null    float64\n",
      " 9   imdb_rating             600 non-null    float64\n",
      " 10  imdb_votes              597 non-null    float64\n",
      " 11  image_url               596 non-null    object \n",
      " 12  video_url               596 non-null    object \n",
      "dtypes: float64(4), int64(4), object(5)\n",
      "memory usage: 61.1+ KB\n"
     ]
    }
   ],
   "source": [
    "df.info()"
   ]
  },
  {
   "cell_type": "markdown",
   "metadata": {},
   "source": [
    "# Outlier Detection"
   ]
  },
  {
   "cell_type": "code",
   "execution_count": 28,
   "metadata": {},
   "outputs": [
    {
     "data": {
      "text/plain": [
       "<matplotlib.axes._subplots.AxesSubplot at 0x19e8d8709c8>"
      ]
     },
     "execution_count": 28,
     "metadata": {},
     "output_type": "execute_result"
    },
    {
     "data": {
      "image/png": "[encoded data removed]",
      "text/plain": [
       "<Figure size 432x288 with 1 Axes>"
      ]
     },
     "metadata": {
      "needs_background": "light"
     },
     "output_type": "display_data"
    }
   ],
   "source": [
    "sns.boxplot(data=df,x=df[\"us_viewers_in_millions\"])"
   ]
  },
  {
   "cell_type": "code",
   "execution_count": 29,
   "metadata": {},
   "outputs": [
    {
     "data": {
      "text/plain": [
       "0.88326557283507"
      ]
     },
     "execution_count": 29,
     "metadata": {},
     "output_type": "execute_result"
    }
   ],
   "source": [
    "df[\"us_viewers_in_millions\"].skew()"
   ]
  },
  {
   "cell_type": "markdown",
   "metadata": {},
   "source": [
    "# Outlier treatment"
   ]
  },
  {
   "cell_type": "markdown",
   "metadata": {},
   "source": [
    "In this technique, we will do the flooring (e.g., the 10th percentile) for the lower values and capping (e.g., the 90th percentile) for the higher values. The lines of code below print the 10th and 90th percentiles of the variable 'US Viewers in Millions', respectively. These values will be used for quantile-based flooring and capping."
   ]
  },
  {
   "cell_type": "code",
   "execution_count": 30,
   "metadata": {},
   "outputs": [
    {
     "name": "stdout",
     "output_type": "stream",
     "text": [
      "4.833\n",
      "21.770000000000003\n"
     ]
    }
   ],
   "source": [
    "print(df[\"us_viewers_in_millions\"].quantile(0.10))\n",
    "print(df[\"us_viewers_in_millions\"].quantile(0.90))\n",
    "\n"
   ]
  },
  {
   "cell_type": "code",
   "execution_count": 31,
   "metadata": {},
   "outputs": [
    {
     "name": "stdout",
     "output_type": "stream",
     "text": [
      "0.30551731435819646\n"
     ]
    }
   ],
   "source": [
    "df[\"us_viewers_in_millions\"] = np.where(df[\"us_viewers_in_millions\"] <4.833, 2960.0,df['us_viewers_in_millions'])\n",
    "df[\"us_viewers_in_millions\"] = np.where(df[\"us_viewers_in_millions\"] >21.770000000000003, 21.770000000000003,df['us_viewers_in_millions'])\n",
    "print(df['us_viewers_in_millions'].skew())"
   ]
  },
  {
   "cell_type": "code",
   "execution_count": 32,
   "metadata": {},
   "outputs": [
    {
     "data": {
      "text/html": [
       "<div>\n",
       "<style scoped>\n",
       "    .dataframe tbody tr th:only-of-type {\n",
       "        vertical-align: middle;\n",
       "    }\n",
       "\n",
       "    .dataframe tbody tr th {\n",
       "        vertical-align: top;\n",
       "    }\n",
       "\n",
       "    .dataframe thead th {\n",
       "        text-align: right;\n",
       "    }\n",
       "</style>\n",
       "<table border=\"1\" class=\"dataframe\">\n",
       "  <thead>\n",
       "    <tr style=\"text-align: right;\">\n",
       "      <th></th>\n",
       "      <th>id</th>\n",
       "      <th>title</th>\n",
       "      <th>original_air_date</th>\n",
       "      <th>production_code</th>\n",
       "      <th>season</th>\n",
       "      <th>number_in_season</th>\n",
       "      <th>number_in_series</th>\n",
       "      <th>us_viewers_in_millions</th>\n",
       "      <th>views</th>\n",
       "      <th>imdb_rating</th>\n",
       "      <th>imdb_votes</th>\n",
       "      <th>image_url</th>\n",
       "      <th>video_url</th>\n",
       "    </tr>\n",
       "  </thead>\n",
       "  <tbody>\n",
       "    <tr>\n",
       "      <th>0</th>\n",
       "      <td>10</td>\n",
       "      <td>Homer's Night Out</td>\n",
       "      <td>1990-03-25</td>\n",
       "      <td>7G10</td>\n",
       "      <td>1</td>\n",
       "      <td>10</td>\n",
       "      <td>10</td>\n",
       "      <td>21.77</td>\n",
       "      <td>50816.0</td>\n",
       "      <td>7.4</td>\n",
       "      <td>1511.0</td>\n",
       "      <td>http://static-media.fxx.com/img/FX_Networks_-_...</td>\n",
       "      <td>http://www.simpsonsworld.com/video/275197507879</td>\n",
       "    </tr>\n",
       "    <tr>\n",
       "      <th>1</th>\n",
       "      <td>12</td>\n",
       "      <td>Krusty Gets Busted</td>\n",
       "      <td>1990-04-29</td>\n",
       "      <td>7G12</td>\n",
       "      <td>1</td>\n",
       "      <td>12</td>\n",
       "      <td>12</td>\n",
       "      <td>21.77</td>\n",
       "      <td>62561.0</td>\n",
       "      <td>8.3</td>\n",
       "      <td>1716.0</td>\n",
       "      <td>http://static-media.fxx.com/img/FX_Networks_-_...</td>\n",
       "      <td>http://www.simpsonsworld.com/video/288019523914</td>\n",
       "    </tr>\n",
       "    <tr>\n",
       "      <th>2</th>\n",
       "      <td>14</td>\n",
       "      <td>Bart Gets an \"F\"</td>\n",
       "      <td>1990-10-11</td>\n",
       "      <td>7F03</td>\n",
       "      <td>2</td>\n",
       "      <td>1</td>\n",
       "      <td>14</td>\n",
       "      <td>21.77</td>\n",
       "      <td>59575.0</td>\n",
       "      <td>8.2</td>\n",
       "      <td>1638.0</td>\n",
       "      <td>http://static-media.fxx.com/img/FX_Networks_-_...</td>\n",
       "      <td>http://www.simpsonsworld.com/video/260539459671</td>\n",
       "    </tr>\n",
       "    <tr>\n",
       "      <th>3</th>\n",
       "      <td>17</td>\n",
       "      <td>Two Cars in Every Garage and Three Eyes on Eve...</td>\n",
       "      <td>1990-11-01</td>\n",
       "      <td>7F01</td>\n",
       "      <td>2</td>\n",
       "      <td>4</td>\n",
       "      <td>17</td>\n",
       "      <td>21.77</td>\n",
       "      <td>64959.0</td>\n",
       "      <td>8.1</td>\n",
       "      <td>1457.0</td>\n",
       "      <td>http://static-media.fxx.com/img/FX_Networks_-_...</td>\n",
       "      <td>http://www.simpsonsworld.com/video/260537411822</td>\n",
       "    </tr>\n",
       "    <tr>\n",
       "      <th>4</th>\n",
       "      <td>19</td>\n",
       "      <td>Dead Putting Society</td>\n",
       "      <td>1990-11-15</td>\n",
       "      <td>7F08</td>\n",
       "      <td>2</td>\n",
       "      <td>6</td>\n",
       "      <td>19</td>\n",
       "      <td>21.77</td>\n",
       "      <td>50691.0</td>\n",
       "      <td>8.0</td>\n",
       "      <td>1366.0</td>\n",
       "      <td>http://static-media.fxx.com/img/FX_Networks_-_...</td>\n",
       "      <td>http://www.simpsonsworld.com/video/260539459670</td>\n",
       "    </tr>\n",
       "    <tr>\n",
       "      <th>...</th>\n",
       "      <td>...</td>\n",
       "      <td>...</td>\n",
       "      <td>...</td>\n",
       "      <td>...</td>\n",
       "      <td>...</td>\n",
       "      <td>...</td>\n",
       "      <td>...</td>\n",
       "      <td>...</td>\n",
       "      <td>...</td>\n",
       "      <td>...</td>\n",
       "      <td>...</td>\n",
       "      <td>...</td>\n",
       "      <td>...</td>\n",
       "    </tr>\n",
       "    <tr>\n",
       "      <th>595</th>\n",
       "      <td>500</td>\n",
       "      <td>At Long Last Leave</td>\n",
       "      <td>2012-02-19</td>\n",
       "      <td>PABF07</td>\n",
       "      <td>23</td>\n",
       "      <td>14</td>\n",
       "      <td>500</td>\n",
       "      <td>5.77</td>\n",
       "      <td>45226.0</td>\n",
       "      <td>7.0</td>\n",
       "      <td>580.0</td>\n",
       "      <td>http://static-media.fxx.com/img/FX_Networks_-_...</td>\n",
       "      <td>http://www.simpsonsworld.com/video/230541891832</td>\n",
       "    </tr>\n",
       "    <tr>\n",
       "      <th>596</th>\n",
       "      <td>502</td>\n",
       "      <td>How I Wet Your Mother</td>\n",
       "      <td>2012-03-11</td>\n",
       "      <td>PABF08</td>\n",
       "      <td>23</td>\n",
       "      <td>16</td>\n",
       "      <td>502</td>\n",
       "      <td>4.97</td>\n",
       "      <td>44818.0</td>\n",
       "      <td>7.3</td>\n",
       "      <td>541.0</td>\n",
       "      <td>http://static-media.fxx.com/img/FX_Networks_-_...</td>\n",
       "      <td>http://www.simpsonsworld.com/video/230597187582</td>\n",
       "    </tr>\n",
       "    <tr>\n",
       "      <th>597</th>\n",
       "      <td>511</td>\n",
       "      <td>Adventures in Baby-Getting</td>\n",
       "      <td>2012-11-04</td>\n",
       "      <td>PABF18</td>\n",
       "      <td>24</td>\n",
       "      <td>3</td>\n",
       "      <td>511</td>\n",
       "      <td>5.65</td>\n",
       "      <td>39687.0</td>\n",
       "      <td>6.9</td>\n",
       "      <td>460.0</td>\n",
       "      <td>http://static-media.fxx.com/img/FX_Networks_-_...</td>\n",
       "      <td>http://www.simpsonsworld.com/video/221688899646</td>\n",
       "    </tr>\n",
       "    <tr>\n",
       "      <th>598</th>\n",
       "      <td>542</td>\n",
       "      <td>Diggs</td>\n",
       "      <td>2014-03-09</td>\n",
       "      <td>SABF08</td>\n",
       "      <td>25</td>\n",
       "      <td>12</td>\n",
       "      <td>542</td>\n",
       "      <td>21.77</td>\n",
       "      <td>39292.0</td>\n",
       "      <td>6.4</td>\n",
       "      <td>473.0</td>\n",
       "      <td>http://static-media.fxx.com/img/FX_Networks_-_...</td>\n",
       "      <td>http://www.simpsonsworld.com/video/310529091639</td>\n",
       "    </tr>\n",
       "    <tr>\n",
       "      <th>599</th>\n",
       "      <td>548</td>\n",
       "      <td>Days of Future Future</td>\n",
       "      <td>2014-04-13</td>\n",
       "      <td>SABF13</td>\n",
       "      <td>25</td>\n",
       "      <td>18</td>\n",
       "      <td>548</td>\n",
       "      <td>21.77</td>\n",
       "      <td>55742.0</td>\n",
       "      <td>7.0</td>\n",
       "      <td>504.0</td>\n",
       "      <td>http://static-media.fxx.com/img/FX_Networks_-_...</td>\n",
       "      <td>http://www.simpsonsworld.com/video/310257731892</td>\n",
       "    </tr>\n",
       "  </tbody>\n",
       "</table>\n",
       "<p>600 rows × 13 columns</p>\n",
       "</div>"
      ],
      "text/plain": [
       "      id                                              title original_air_date  \\\n",
       "0     10                                  Homer's Night Out        1990-03-25   \n",
       "1     12                                 Krusty Gets Busted        1990-04-29   \n",
       "2     14                                   Bart Gets an \"F\"        1990-10-11   \n",
       "3     17  Two Cars in Every Garage and Three Eyes on Eve...        1990-11-01   \n",
       "4     19                               Dead Putting Society        1990-11-15   \n",
       "..   ...                                                ...               ...   \n",
       "595  500                                 At Long Last Leave        2012-02-19   \n",
       "596  502                              How I Wet Your Mother        2012-03-11   \n",
       "597  511                         Adventures in Baby-Getting        2012-11-04   \n",
       "598  542                                              Diggs        2014-03-09   \n",
       "599  548                              Days of Future Future        2014-04-13   \n",
       "\n",
       "    production_code  season  number_in_season  number_in_series  \\\n",
       "0              7G10       1                10                10   \n",
       "1              7G12       1                12                12   \n",
       "2              7F03       2                 1                14   \n",
       "3              7F01       2                 4                17   \n",
       "4              7F08       2                 6                19   \n",
       "..              ...     ...               ...               ...   \n",
       "595          PABF07      23                14               500   \n",
       "596          PABF08      23                16               502   \n",
       "597          PABF18      24                 3               511   \n",
       "598          SABF08      25                12               542   \n",
       "599          SABF13      25                18               548   \n",
       "\n",
       "     us_viewers_in_millions    views  imdb_rating  imdb_votes  \\\n",
       "0                     21.77  50816.0          7.4      1511.0   \n",
       "1                     21.77  62561.0          8.3      1716.0   \n",
       "2                     21.77  59575.0          8.2      1638.0   \n",
       "3                     21.77  64959.0          8.1      1457.0   \n",
       "4                     21.77  50691.0          8.0      1366.0   \n",
       "..                      ...      ...          ...         ...   \n",
       "595                    5.77  45226.0          7.0       580.0   \n",
       "596                    4.97  44818.0          7.3       541.0   \n",
       "597                    5.65  39687.0          6.9       460.0   \n",
       "598                   21.77  39292.0          6.4       473.0   \n",
       "599                   21.77  55742.0          7.0       504.0   \n",
       "\n",
       "                                             image_url  \\\n",
       "0    http://static-media.fxx.com/img/FX_Networks_-_...   \n",
       "1    http://static-media.fxx.com/img/FX_Networks_-_...   \n",
       "2    http://static-media.fxx.com/img/FX_Networks_-_...   \n",
       "3    http://static-media.fxx.com/img/FX_Networks_-_...   \n",
       "4    http://static-media.fxx.com/img/FX_Networks_-_...   \n",
       "..                                                 ...   \n",
       "595  http://static-media.fxx.com/img/FX_Networks_-_...   \n",
       "596  http://static-media.fxx.com/img/FX_Networks_-_...   \n",
       "597  http://static-media.fxx.com/img/FX_Networks_-_...   \n",
       "598  http://static-media.fxx.com/img/FX_Networks_-_...   \n",
       "599  http://static-media.fxx.com/img/FX_Networks_-_...   \n",
       "\n",
       "                                           video_url  \n",
       "0    http://www.simpsonsworld.com/video/275197507879  \n",
       "1    http://www.simpsonsworld.com/video/288019523914  \n",
       "2    http://www.simpsonsworld.com/video/260539459671  \n",
       "3    http://www.simpsonsworld.com/video/260537411822  \n",
       "4    http://www.simpsonsworld.com/video/260539459670  \n",
       "..                                               ...  \n",
       "595  http://www.simpsonsworld.com/video/230541891832  \n",
       "596  http://www.simpsonsworld.com/video/230597187582  \n",
       "597  http://www.simpsonsworld.com/video/221688899646  \n",
       "598  http://www.simpsonsworld.com/video/310529091639  \n",
       "599  http://www.simpsonsworld.com/video/310257731892  \n",
       "\n",
       "[600 rows x 13 columns]"
      ]
     },
     "execution_count": 32,
     "metadata": {},
     "output_type": "execute_result"
    }
   ],
   "source": [
    "df"
   ]
  },
  {
   "cell_type": "code",
   "execution_count": 33,
   "metadata": {},
   "outputs": [
    {
     "data": {
      "text/plain": [
       "<matplotlib.axes._subplots.AxesSubplot at 0x19e8d91cc88>"
      ]
     },
     "execution_count": 33,
     "metadata": {},
     "output_type": "execute_result"
    },
    {
     "data": {
      "image/png": "[encoded data removed]",
      "text/plain": [
       "<Figure size 432x288 with 1 Axes>"
      ]
     },
     "metadata": {
      "needs_background": "light"
     },
     "output_type": "display_data"
    }
   ],
   "source": [
    "sns.boxplot(data=df,x=df[\"us_viewers_in_millions\"])"
   ]
  },
  {
   "cell_type": "markdown",
   "metadata": {},
   "source": [
    "# Replacing with median"
   ]
  },
  {
   "cell_type": "code",
   "execution_count": 34,
   "metadata": {},
   "outputs": [
    {
     "data": {
      "text/plain": [
       "<matplotlib.axes._subplots.AxesSubplot at 0x19e8d96fec8>"
      ]
     },
     "execution_count": 34,
     "metadata": {},
     "output_type": "execute_result"
    },
    {
     "data": {
      "image/png": "[encoded data removed]",
      "text/plain": [
       "<Figure size 432x288 with 1 Axes>"
      ]
     },
     "metadata": {
      "needs_background": "light"
     },
     "output_type": "display_data"
    }
   ],
   "source": [
    "sns.boxplot(data=df,x=df[\"imdb_votes\"], orient= 'v')"
   ]
  },
  {
   "cell_type": "code",
   "execution_count": 35,
   "metadata": {},
   "outputs": [
    {
     "name": "stdout",
     "output_type": "stream",
     "text": [
      "697.0\n",
      "1589.3999999999996\n"
     ]
    }
   ],
   "source": [
    "print(df['imdb_votes'].quantile(0.50)) \n",
    "print(df['imdb_votes'].quantile(0.95)) \n"
   ]
  },
  {
   "cell_type": "code",
   "execution_count": 36,
   "metadata": {},
   "outputs": [
    {
     "data": {
      "text/html": [
       "<div>\n",
       "<style scoped>\n",
       "    .dataframe tbody tr th:only-of-type {\n",
       "        vertical-align: middle;\n",
       "    }\n",
       "\n",
       "    .dataframe tbody tr th {\n",
       "        vertical-align: top;\n",
       "    }\n",
       "\n",
       "    .dataframe thead th {\n",
       "        text-align: right;\n",
       "    }\n",
       "</style>\n",
       "<table border=\"1\" class=\"dataframe\">\n",
       "  <thead>\n",
       "    <tr style=\"text-align: right;\">\n",
       "      <th></th>\n",
       "      <th>id</th>\n",
       "      <th>season</th>\n",
       "      <th>number_in_season</th>\n",
       "      <th>number_in_series</th>\n",
       "      <th>us_viewers_in_millions</th>\n",
       "      <th>views</th>\n",
       "      <th>imdb_rating</th>\n",
       "      <th>imdb_votes</th>\n",
       "    </tr>\n",
       "  </thead>\n",
       "  <tbody>\n",
       "    <tr>\n",
       "      <th>count</th>\n",
       "      <td>600.000000</td>\n",
       "      <td>600.000000</td>\n",
       "      <td>600.000000</td>\n",
       "      <td>600.000000</td>\n",
       "      <td>594.000000</td>\n",
       "      <td>596.000000</td>\n",
       "      <td>600.000000</td>\n",
       "      <td>597.000000</td>\n",
       "    </tr>\n",
       "    <tr>\n",
       "      <th>mean</th>\n",
       "      <td>300.500000</td>\n",
       "      <td>14.100000</td>\n",
       "      <td>11.585000</td>\n",
       "      <td>300.500000</td>\n",
       "      <td>13.312492</td>\n",
       "      <td>48759.377517</td>\n",
       "      <td>7.385667</td>\n",
       "      <td>819.755444</td>\n",
       "    </tr>\n",
       "    <tr>\n",
       "      <th>std</th>\n",
       "      <td>173.349358</td>\n",
       "      <td>7.755444</td>\n",
       "      <td>6.549881</td>\n",
       "      <td>173.349358</td>\n",
       "      <td>5.735623</td>\n",
       "      <td>17751.308464</td>\n",
       "      <td>0.730628</td>\n",
       "      <td>355.470978</td>\n",
       "    </tr>\n",
       "    <tr>\n",
       "      <th>min</th>\n",
       "      <td>1.000000</td>\n",
       "      <td>1.000000</td>\n",
       "      <td>1.000000</td>\n",
       "      <td>1.000000</td>\n",
       "      <td>4.840000</td>\n",
       "      <td>144.000000</td>\n",
       "      <td>4.500000</td>\n",
       "      <td>104.000000</td>\n",
       "    </tr>\n",
       "    <tr>\n",
       "      <th>25%</th>\n",
       "      <td>150.750000</td>\n",
       "      <td>7.000000</td>\n",
       "      <td>6.000000</td>\n",
       "      <td>150.750000</td>\n",
       "      <td>8.302500</td>\n",
       "      <td>41301.750000</td>\n",
       "      <td>6.900000</td>\n",
       "      <td>560.000000</td>\n",
       "    </tr>\n",
       "    <tr>\n",
       "      <th>50%</th>\n",
       "      <td>300.500000</td>\n",
       "      <td>14.000000</td>\n",
       "      <td>11.000000</td>\n",
       "      <td>300.500000</td>\n",
       "      <td>12.010000</td>\n",
       "      <td>46036.000000</td>\n",
       "      <td>7.300000</td>\n",
       "      <td>697.000000</td>\n",
       "    </tr>\n",
       "    <tr>\n",
       "      <th>75%</th>\n",
       "      <td>450.250000</td>\n",
       "      <td>21.000000</td>\n",
       "      <td>17.000000</td>\n",
       "      <td>450.250000</td>\n",
       "      <td>19.500000</td>\n",
       "      <td>57593.750000</td>\n",
       "      <td>8.000000</td>\n",
       "      <td>1095.000000</td>\n",
       "    </tr>\n",
       "    <tr>\n",
       "      <th>max</th>\n",
       "      <td>600.000000</td>\n",
       "      <td>28.000000</td>\n",
       "      <td>25.000000</td>\n",
       "      <td>600.000000</td>\n",
       "      <td>21.770000</td>\n",
       "      <td>171408.000000</td>\n",
       "      <td>9.200000</td>\n",
       "      <td>1589.400000</td>\n",
       "    </tr>\n",
       "  </tbody>\n",
       "</table>\n",
       "</div>"
      ],
      "text/plain": [
       "               id      season  number_in_season  number_in_series  \\\n",
       "count  600.000000  600.000000        600.000000        600.000000   \n",
       "mean   300.500000   14.100000         11.585000        300.500000   \n",
       "std    173.349358    7.755444          6.549881        173.349358   \n",
       "min      1.000000    1.000000          1.000000          1.000000   \n",
       "25%    150.750000    7.000000          6.000000        150.750000   \n",
       "50%    300.500000   14.000000         11.000000        300.500000   \n",
       "75%    450.250000   21.000000         17.000000        450.250000   \n",
       "max    600.000000   28.000000         25.000000        600.000000   \n",
       "\n",
       "       us_viewers_in_millions          views  imdb_rating   imdb_votes  \n",
       "count              594.000000     596.000000   600.000000   597.000000  \n",
       "mean                13.312492   48759.377517     7.385667   819.755444  \n",
       "std                  5.735623   17751.308464     0.730628   355.470978  \n",
       "min                  4.840000     144.000000     4.500000   104.000000  \n",
       "25%                  8.302500   41301.750000     6.900000   560.000000  \n",
       "50%                 12.010000   46036.000000     7.300000   697.000000  \n",
       "75%                 19.500000   57593.750000     8.000000  1095.000000  \n",
       "max                 21.770000  171408.000000     9.200000  1589.400000  "
      ]
     },
     "execution_count": 36,
     "metadata": {},
     "output_type": "execute_result"
    }
   ],
   "source": [
    "df['imdb_votes'] = np.where(df['imdb_votes'] > 1589.3999999999996, 1589.3999999999996, df['imdb_votes'])\n",
    "df.describe()"
   ]
  },
  {
   "cell_type": "code",
   "execution_count": 37,
   "metadata": {},
   "outputs": [
    {
     "data": {
      "text/plain": [
       "<matplotlib.axes._subplots.AxesSubplot at 0x19e8d9f3388>"
      ]
     },
     "execution_count": 37,
     "metadata": {},
     "output_type": "execute_result"
    },
    {
     "data": {
      "image/png": "[encoded data removed]",
      "text/plain": [
       "<Figure size 432x288 with 1 Axes>"
      ]
     },
     "metadata": {
      "needs_background": "light"
     },
     "output_type": "display_data"
    }
   ],
   "source": [
    "sns.boxplot(data=df,x=df[\"imdb_votes\"], orient= 'v')"
   ]
  },
  {
   "cell_type": "code",
   "execution_count": null,
   "metadata": {},
   "outputs": [],
   "source": []
  }
 ],
 "metadata": {
  "kernelspec": {
   "display_name": "Python 3",
   "language": "python",
   "name": "python3"
  },
  "language_info": {
   "codemirror_mode": {
    "name": "ipython",
    "version": 3
   },
   "file_extension": ".py",
   "mimetype": "text/x-python",
   "name": "python",
   "nbconvert_exporter": "python",
   "pygments_lexer": "ipython3",
   "version": "3.7.6"
  }
 },
 "nbformat": 4,
 "nbformat_minor": 4
}
